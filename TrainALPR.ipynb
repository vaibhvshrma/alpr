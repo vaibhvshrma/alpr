{
  "nbformat": 4,
  "nbformat_minor": 0,
  "metadata": {
    "colab": {
      "name": "TrainALPR.ipynb",
      "provenance": [],
      "toc_visible": true
    },
    "kernelspec": {
      "name": "python3",
      "display_name": "Python 3"
    },
    "accelerator": "GPU"
  },
  "cells": [
    {
      "cell_type": "code",
      "metadata": {
        "id": "HqqiCqko-BN8",
        "colab_type": "code",
        "colab": {}
      },
      "source": [
        "import os\n",
        "import zipfile\n",
        "import random\n",
        "import tensorflow as tf\n",
        "from tensorflow.keras.optimizers import RMSprop\n",
        "from tensorflow.keras.preprocessing.image import ImageDataGenerator\n",
        "from tensorflow.keras import layers\n",
        "from tensorflow.keras import Model\n",
        "from shutil import copyfile"
      ],
      "execution_count": 0,
      "outputs": []
    },
    {
      "cell_type": "markdown",
      "metadata": {
        "id": "GMLCsphs7wBO",
        "colab_type": "text"
      },
      "source": [
        "# Load dataset and set up training and testing directories"
      ]
    },
    {
      "cell_type": "code",
      "metadata": {
        "id": "L3Iw7o4l-NsH",
        "colab_type": "code",
        "colab": {}
      },
      "source": [
        "# !rm -r /tmp/*\n",
        "local_zip = '/content/characters.zip'\n",
        "zip_ref   = zipfile.ZipFile(local_zip, 'r')\n",
        "zip_ref.extractall('/tmp/characters-dataset/')\n",
        "zip_ref.close()"
      ],
      "execution_count": 0,
      "outputs": []
    },
    {
      "cell_type": "code",
      "metadata": {
        "id": "OiE01z9q8IwD",
        "colab_type": "code",
        "outputId": "99c54220-e092-4da3-9f9f-4f3ff54d3e03",
        "colab": {
          "base_uri": "https://localhost:8080/",
          "height": 51
        }
      },
      "source": [
        "!ls /tmp/characters-dataset/"
      ],
      "execution_count": 0,
      "outputs": [
        {
          "output_type": "stream",
          "text": [
            "0  2  4  6  8  A  C  E\tG  I  K  M  O  Q  S  U\tW  Y\n",
            "1  3  5  7  9  B  D  F\tH  J  L  N  P  R  T  V\tX  Z\n"
          ],
          "name": "stdout"
        }
      ]
    },
    {
      "cell_type": "code",
      "metadata": {
        "id": "vz1rCMUZGEZm",
        "colab_type": "code",
        "outputId": "03954720-cc44-457f-b073-8f60dfd2d663",
        "colab": {
          "base_uri": "https://localhost:8080/",
          "height": 34
        }
      },
      "source": [
        "chars = [chr(ord('A') + i) for i in range(26)] + [chr(ord('0') + i) for i in range(10)] \n",
        "print(*chars)"
      ],
      "execution_count": 0,
      "outputs": [
        {
          "output_type": "stream",
          "text": [
            "A B C D E F G H I J K L M N O P Q R S T U V W X Y Z 0 1 2 3 4 5 6 7 8 9\n"
          ],
          "name": "stdout"
        }
      ]
    },
    {
      "cell_type": "code",
      "metadata": {
        "id": "WsnciP_qGsYM",
        "colab_type": "code",
        "colab": {}
      },
      "source": [
        ""
      ],
      "execution_count": 0,
      "outputs": []
    },
    {
      "cell_type": "code",
      "metadata": {
        "id": "nPLO1nMuG5vi",
        "colab_type": "code",
        "colab": {}
      },
      "source": [
        "def split_data(SOURCE, TRAINING, TESTING, SPLIT_SIZE):\n",
        "    files = []\n",
        "    for filename in os.listdir(SOURCE):\n",
        "        file = SOURCE + filename\n",
        "        if os.path.getsize(file) > 0:\n",
        "            files.append(filename)\n",
        "        else:\n",
        "            print(filename + \" is zero length, so ignoring.\")\n",
        "\n",
        "    training_length = int(len(files) * SPLIT_SIZE)\n",
        "    testing_length = int(len(files) - training_length)\n",
        "    shuffled_set = random.sample(files, len(files))\n",
        "    training_set = shuffled_set[0:training_length]\n",
        "    testing_set = shuffled_set[-testing_length:]\n",
        "\n",
        "    for filename in training_set:\n",
        "        this_file = SOURCE + filename\n",
        "        destination = TRAINING + filename\n",
        "        copyfile(this_file, destination)\n",
        "\n",
        "    for filename in testing_set:\n",
        "        this_file = SOURCE + filename\n",
        "        destination = TESTING + filename\n",
        "        copyfile(this_file, destination)"
      ],
      "execution_count": 0,
      "outputs": []
    },
    {
      "cell_type": "code",
      "metadata": {
        "id": "dGasiOTDvovc",
        "colab_type": "code",
        "colab": {}
      },
      "source": [
        "#!rm -r /tmp/characters/*"
      ],
      "execution_count": 0,
      "outputs": []
    },
    {
      "cell_type": "code",
      "metadata": {
        "id": "QYmSADp1XGI6",
        "colab_type": "code",
        "colab": {}
      },
      "source": [
        "for char in chars:\n",
        "  os.makedirs(f'/tmp/characters/training/{char}')\n",
        "  os.makedirs(f'/tmp/characters/testing/{char}')\n",
        "  # os.makedirs(f'/tmp/characters/train_and_val/{char}')\n",
        "  # os.makedirs(f'/tmp/characters/validation/{char}')"
      ],
      "execution_count": 0,
      "outputs": []
    },
    {
      "cell_type": "code",
      "metadata": {
        "id": "spVSGIrFK4lR",
        "colab_type": "code",
        "colab": {}
      },
      "source": [
        "split_size = .90\n",
        "for char in chars:\n",
        "    SOURCE_DIR = f'/tmp/characters-dataset/{char}/'\n",
        "    TRAIN_DIR = f'/tmp/characters/training/{char}/'\n",
        "    TEST_DIR = f'/tmp/characters/testing/{char}/'\n",
        "    split_data(SOURCE_DIR, TRAIN_DIR, TEST_DIR, split_size)"
      ],
      "execution_count": 0,
      "outputs": []
    },
    {
      "cell_type": "markdown",
      "metadata": {
        "id": "k8v6bVFUBZem",
        "colab_type": "text"
      },
      "source": [
        "## Make training and validation split"
      ]
    },
    {
      "cell_type": "code",
      "metadata": {
        "id": "eZK6AZRtB2nq",
        "colab_type": "code",
        "colab": {}
      },
      "source": [
        "# !mv /tmp/characters/training /tmp/characters/train_and_val"
      ],
      "execution_count": 0,
      "outputs": []
    },
    {
      "cell_type": "code",
      "metadata": {
        "id": "5Thn9jhvBXnv",
        "colab_type": "code",
        "colab": {}
      },
      "source": [
        "# split_size = .8\n",
        "# for char in chars:\n",
        "#     SOURCE_DIR = f'/tmp/characters/train_and_val/{char}/'\n",
        "#     TRAIN_DIR = f'/tmp/characters/training/{char}/'\n",
        "#     VAL_DIR = f'/tmp/characters/validation/{char}/'\n",
        "#     split_data(SOURCE_DIR, TRAIN_DIR, VAL_DIR, split_size)"
      ],
      "execution_count": 0,
      "outputs": []
    },
    {
      "cell_type": "code",
      "metadata": {
        "id": "GXeLcoEuDYRM",
        "colab_type": "code",
        "colab": {}
      },
      "source": [
        "# !rm -r /tmp/characters/*"
      ],
      "execution_count": 0,
      "outputs": []
    },
    {
      "cell_type": "code",
      "metadata": {
        "id": "4i7puQzv8Y1R",
        "colab_type": "code",
        "outputId": "55930117-dedd-474e-a57e-1534d47c49ba",
        "colab": {
          "base_uri": "https://localhost:8080/",
          "height": 34
        }
      },
      "source": [
        "print(len(os.listdir('/tmp/characters/training/P')),\n",
        "# len(os.listdir('/tmp/characters/validation/P')),\n",
        "len(os.listdir('/tmp/characters/testing/P')))"
      ],
      "execution_count": 0,
      "outputs": [
        {
          "output_type": "stream",
          "text": [
            "265 30\n"
          ],
          "name": "stdout"
        }
      ]
    },
    {
      "cell_type": "markdown",
      "metadata": {
        "id": "JlxOJFOe8rW0",
        "colab_type": "text"
      },
      "source": [
        "# Define and train model"
      ]
    },
    {
      "cell_type": "code",
      "metadata": {
        "id": "VIhR-OESADII",
        "colab_type": "code",
        "colab": {}
      },
      "source": [
        "model = tf.keras.models.Sequential([\n",
        "    layers.Conv2D(16, (3, 3), activation='relu', input_shape=(30, 30, 3)),\n",
        "    layers.MaxPooling2D(2, 2),\n",
        "    layers.Conv2D(32, (3, 3), activation='relu'),\n",
        "    layers.MaxPooling2D(2, 2),\n",
        "    # layers.Conv2D(64, (3, 3), activation='relu'),\n",
        "    # layers.MaxPool2D(2, 2),\n",
        "    layers.Flatten(),\n",
        "    layers.Dense(1024, activation='relu'),\n",
        "    layers.Dense(512, activation='relu'),\n",
        "    layers.Dense(36, activation='softmax')\n",
        "])\n",
        "\n",
        "# model.compile(optimizer=RMSprop(learning_rate=0.001), loss='categorical_crossentropy', metrics=['acc'])\n",
        "model.compile(optimizer='adam', loss='categorical_crossentropy', metrics=['acc'])"
      ],
      "execution_count": 0,
      "outputs": []
    },
    {
      "cell_type": "code",
      "metadata": {
        "id": "-9i35fP1xWVH",
        "colab_type": "code",
        "outputId": "e27569a7-2270-49b9-90ea-8c465e75cc5b",
        "colab": {
          "base_uri": "https://localhost:8080/",
          "height": 425
        }
      },
      "source": [
        "model.summary()"
      ],
      "execution_count": 0,
      "outputs": [
        {
          "output_type": "stream",
          "text": [
            "Model: \"sequential_1\"\n",
            "_________________________________________________________________\n",
            "Layer (type)                 Output Shape              Param #   \n",
            "=================================================================\n",
            "conv2d_3 (Conv2D)            (None, 28, 28, 16)        448       \n",
            "_________________________________________________________________\n",
            "max_pooling2d_3 (MaxPooling2 (None, 14, 14, 16)        0         \n",
            "_________________________________________________________________\n",
            "conv2d_4 (Conv2D)            (None, 12, 12, 32)        4640      \n",
            "_________________________________________________________________\n",
            "max_pooling2d_4 (MaxPooling2 (None, 6, 6, 32)          0         \n",
            "_________________________________________________________________\n",
            "flatten_1 (Flatten)          (None, 1152)              0         \n",
            "_________________________________________________________________\n",
            "dense_3 (Dense)              (None, 1024)              1180672   \n",
            "_________________________________________________________________\n",
            "dense_4 (Dense)              (None, 512)               524800    \n",
            "_________________________________________________________________\n",
            "dense_5 (Dense)              (None, 36)                18468     \n",
            "=================================================================\n",
            "Total params: 1,729,028\n",
            "Trainable params: 1,729,028\n",
            "Non-trainable params: 0\n",
            "_________________________________________________________________\n"
          ],
          "name": "stdout"
        }
      ]
    },
    {
      "cell_type": "markdown",
      "metadata": {
        "id": "BACxWCWDUaWJ",
        "colab_type": "text"
      },
      "source": [
        "## Define Data Generators"
      ]
    },
    {
      "cell_type": "code",
      "metadata": {
        "id": "tqJ3ReJBT3Nd",
        "colab_type": "code",
        "outputId": "66a88e67-05b2-47bc-9be7-f2ef5fc2d3e5",
        "colab": {
          "base_uri": "https://localhost:8080/",
          "height": 51
        }
      },
      "source": [
        "TRAIN_DIR = \"/tmp/characters/training/\"\n",
        "TEST_DIR = \"/tmp/characters/testing/\"\n",
        "VAL_DIR = \"/tmp/characters/validation/\"\n",
        "\n",
        "# create data generators\n",
        "train_datagen = ImageDataGenerator(\n",
        "    rescale=1./255,\n",
        "    rotation_range=40,\n",
        "    width_shift_range=0.2,\n",
        "    height_shift_range=0.2,\n",
        "    shear_range=0.2,\n",
        "    zoom_range=0.2,\n",
        "    fill_mode='nearest'\n",
        ")\n",
        "\n",
        "train_generator = train_datagen.flow_from_directory(\n",
        "    TRAIN_DIR,\n",
        "    target_size=(30, 30),\n",
        "    class_mode='categorical',\n",
        "    batch_size=16,\n",
        ")\n",
        "\n",
        "# validation_datagen = ImageDataGenerator(\n",
        "#       rotation_range=40,\n",
        "#       width_shift_range=0.2,\n",
        "#       height_shift_range=0.2,\n",
        "#       shear_range=0.2,\n",
        "#       zoom_range=0.2,\n",
        "#       fill_mode='nearest'\n",
        "# )\n",
        "\n",
        "# validation_generator = validation_datagen.flow_from_directory(\n",
        "#     VAL_DIR,\n",
        "#     target_size=(30, 30),\n",
        "#     class_mode=\"categorical\"\n",
        "# )\n",
        "\n",
        "test_datagen = ImageDataGenerator(\n",
        "    rescale=1./255,\n",
        "    rotation_range=40,\n",
        "    width_shift_range=0.2,\n",
        "    height_shift_range=0.2,\n",
        "    shear_range=0.2,\n",
        "    zoom_range=0.2,\n",
        "    fill_mode='nearest'\n",
        ")\n",
        "\n",
        "test_generator = train_datagen.flow_from_directory(\n",
        "    TEST_DIR,\n",
        "    target_size=(30, 30),\n",
        "    class_mode='categorical',\n",
        "    batch_size=16,\n",
        ")"
      ],
      "execution_count": 0,
      "outputs": [
        {
          "output_type": "stream",
          "text": [
            "Found 9540 images belonging to 36 classes.\n",
            "Found 1080 images belonging to 36 classes.\n"
          ],
          "name": "stdout"
        }
      ]
    },
    {
      "cell_type": "code",
      "metadata": {
        "id": "5C5xZnuGUFCz",
        "colab_type": "code",
        "outputId": "2b1631b7-dcb3-43a0-df2a-9a9bfa505243",
        "colab": {
          "base_uri": "https://localhost:8080/",
          "height": 1000
        }
      },
      "source": [
        "history = model.fit_generator(\n",
        "    train_generator,\n",
        "    epochs=50,\n",
        "    verbose=1,\n",
        "    validation_data=test_generator\n",
        ")"
      ],
      "execution_count": 0,
      "outputs": [
        {
          "output_type": "stream",
          "text": [
            "Epoch 1/50\n",
            "597/597 [==============================] - 9s 15ms/step - loss: 2.2796 - acc: 0.3176 - val_loss: 1.4366 - val_acc: 0.5500\n",
            "Epoch 2/50\n",
            "597/597 [==============================] - 8s 14ms/step - loss: 1.1089 - acc: 0.6369 - val_loss: 1.0098 - val_acc: 0.6898\n",
            "Epoch 3/50\n",
            "597/597 [==============================] - 8s 13ms/step - loss: 0.7892 - acc: 0.7375 - val_loss: 0.8245 - val_acc: 0.7417\n",
            "Epoch 4/50\n",
            "597/597 [==============================] - 8s 14ms/step - loss: 0.6606 - acc: 0.7766 - val_loss: 0.6559 - val_acc: 0.8056\n",
            "Epoch 5/50\n",
            "597/597 [==============================] - 8s 14ms/step - loss: 0.6106 - acc: 0.7977 - val_loss: 0.6087 - val_acc: 0.8019\n",
            "Epoch 6/50\n",
            "597/597 [==============================] - 8s 14ms/step - loss: 0.5426 - acc: 0.8160 - val_loss: 0.5116 - val_acc: 0.8426\n",
            "Epoch 7/50\n",
            "597/597 [==============================] - 8s 14ms/step - loss: 0.4997 - acc: 0.8317 - val_loss: 0.5852 - val_acc: 0.8139\n",
            "Epoch 8/50\n",
            "597/597 [==============================] - 8s 14ms/step - loss: 0.4822 - acc: 0.8345 - val_loss: 0.5442 - val_acc: 0.8343\n",
            "Epoch 9/50\n",
            "597/597 [==============================] - 8s 14ms/step - loss: 0.4458 - acc: 0.8462 - val_loss: 0.4883 - val_acc: 0.8472\n",
            "Epoch 10/50\n",
            "597/597 [==============================] - 8s 14ms/step - loss: 0.4448 - acc: 0.8478 - val_loss: 0.4600 - val_acc: 0.8481\n",
            "Epoch 11/50\n",
            "597/597 [==============================] - 8s 14ms/step - loss: 0.4034 - acc: 0.8614 - val_loss: 0.4894 - val_acc: 0.8435\n",
            "Epoch 12/50\n",
            "597/597 [==============================] - 8s 14ms/step - loss: 0.4112 - acc: 0.8566 - val_loss: 0.4774 - val_acc: 0.8435\n",
            "Epoch 13/50\n",
            "597/597 [==============================] - 9s 15ms/step - loss: 0.3889 - acc: 0.8678 - val_loss: 0.4340 - val_acc: 0.8500\n",
            "Epoch 14/50\n",
            "597/597 [==============================] - 8s 14ms/step - loss: 0.3816 - acc: 0.8714 - val_loss: 0.4268 - val_acc: 0.8713\n",
            "Epoch 15/50\n",
            "597/597 [==============================] - 8s 14ms/step - loss: 0.3849 - acc: 0.8681 - val_loss: 0.4100 - val_acc: 0.8639\n",
            "Epoch 16/50\n",
            "597/597 [==============================] - 8s 14ms/step - loss: 0.3722 - acc: 0.8727 - val_loss: 0.4465 - val_acc: 0.8509\n",
            "Epoch 17/50\n",
            "597/597 [==============================] - 8s 14ms/step - loss: 0.3527 - acc: 0.8771 - val_loss: 0.3977 - val_acc: 0.8750\n",
            "Epoch 18/50\n",
            "597/597 [==============================] - 8s 14ms/step - loss: 0.3480 - acc: 0.8804 - val_loss: 0.3531 - val_acc: 0.8815\n",
            "Epoch 19/50\n",
            "597/597 [==============================] - 8s 14ms/step - loss: 0.3561 - acc: 0.8737 - val_loss: 0.4415 - val_acc: 0.8537\n",
            "Epoch 20/50\n",
            "597/597 [==============================] - 8s 14ms/step - loss: 0.3288 - acc: 0.8838 - val_loss: 0.4478 - val_acc: 0.8574\n",
            "Epoch 21/50\n",
            "597/597 [==============================] - 8s 14ms/step - loss: 0.3416 - acc: 0.8818 - val_loss: 0.3647 - val_acc: 0.8824\n",
            "Epoch 22/50\n",
            "597/597 [==============================] - 8s 14ms/step - loss: 0.3226 - acc: 0.8843 - val_loss: 0.3743 - val_acc: 0.8750\n",
            "Epoch 23/50\n",
            "597/597 [==============================] - 8s 13ms/step - loss: 0.3296 - acc: 0.8835 - val_loss: 0.4167 - val_acc: 0.8685\n",
            "Epoch 24/50\n",
            "597/597 [==============================] - 8s 13ms/step - loss: 0.3110 - acc: 0.8925 - val_loss: 0.3701 - val_acc: 0.8843\n",
            "Epoch 25/50\n",
            "597/597 [==============================] - 8s 13ms/step - loss: 0.3050 - acc: 0.8940 - val_loss: 0.3640 - val_acc: 0.8861\n",
            "Epoch 26/50\n",
            "597/597 [==============================] - 8s 13ms/step - loss: 0.2853 - acc: 0.8991 - val_loss: 0.3829 - val_acc: 0.8667\n",
            "Epoch 27/50\n",
            "597/597 [==============================] - 8s 13ms/step - loss: 0.3088 - acc: 0.8899 - val_loss: 0.3970 - val_acc: 0.8787\n",
            "Epoch 28/50\n",
            "597/597 [==============================] - 8s 13ms/step - loss: 0.3098 - acc: 0.8927 - val_loss: 0.3555 - val_acc: 0.8778\n",
            "Epoch 29/50\n",
            "597/597 [==============================] - 8s 13ms/step - loss: 0.2817 - acc: 0.9009 - val_loss: 0.3608 - val_acc: 0.8778\n",
            "Epoch 30/50\n",
            "597/597 [==============================] - 8s 13ms/step - loss: 0.2900 - acc: 0.8973 - val_loss: 0.3670 - val_acc: 0.8806\n",
            "Epoch 31/50\n",
            "597/597 [==============================] - 8s 13ms/step - loss: 0.2940 - acc: 0.8941 - val_loss: 0.3111 - val_acc: 0.8963\n",
            "Epoch 32/50\n",
            "597/597 [==============================] - 8s 13ms/step - loss: 0.2907 - acc: 0.8953 - val_loss: 0.3419 - val_acc: 0.8889\n",
            "Epoch 33/50\n",
            "597/597 [==============================] - 8s 13ms/step - loss: 0.2791 - acc: 0.9003 - val_loss: 0.3644 - val_acc: 0.8963\n",
            "Epoch 34/50\n",
            "597/597 [==============================] - 8s 13ms/step - loss: 0.2871 - acc: 0.9030 - val_loss: 0.3471 - val_acc: 0.8870\n",
            "Epoch 35/50\n",
            "597/597 [==============================] - 8s 13ms/step - loss: 0.2853 - acc: 0.8990 - val_loss: 0.3256 - val_acc: 0.8954\n",
            "Epoch 36/50\n",
            "597/597 [==============================] - 8s 13ms/step - loss: 0.2754 - acc: 0.9031 - val_loss: 0.3847 - val_acc: 0.8870\n",
            "Epoch 37/50\n",
            "597/597 [==============================] - 8s 14ms/step - loss: 0.2804 - acc: 0.8982 - val_loss: 0.3737 - val_acc: 0.8907\n",
            "Epoch 38/50\n",
            "597/597 [==============================] - 8s 13ms/step - loss: 0.2752 - acc: 0.9051 - val_loss: 0.3707 - val_acc: 0.8843\n",
            "Epoch 39/50\n",
            "597/597 [==============================] - 8s 13ms/step - loss: 0.2694 - acc: 0.9049 - val_loss: 0.3475 - val_acc: 0.8907\n",
            "Epoch 40/50\n",
            "597/597 [==============================] - 8s 13ms/step - loss: 0.2658 - acc: 0.9071 - val_loss: 0.3744 - val_acc: 0.8889\n",
            "Epoch 41/50\n",
            "597/597 [==============================] - 8s 13ms/step - loss: 0.2747 - acc: 0.8986 - val_loss: 0.3302 - val_acc: 0.8926\n",
            "Epoch 42/50\n",
            "597/597 [==============================] - 8s 13ms/step - loss: 0.2792 - acc: 0.9006 - val_loss: 0.3233 - val_acc: 0.8963\n",
            "Epoch 43/50\n",
            "597/597 [==============================] - 8s 13ms/step - loss: 0.2845 - acc: 0.9021 - val_loss: 0.3543 - val_acc: 0.8907\n",
            "Epoch 44/50\n",
            "597/597 [==============================] - 8s 13ms/step - loss: 0.2620 - acc: 0.9051 - val_loss: 0.3400 - val_acc: 0.9019\n",
            "Epoch 45/50\n",
            "597/597 [==============================] - 8s 13ms/step - loss: 0.2706 - acc: 0.9043 - val_loss: 0.3668 - val_acc: 0.8935\n",
            "Epoch 46/50\n",
            "597/597 [==============================] - 8s 13ms/step - loss: 0.2593 - acc: 0.9060 - val_loss: 0.3669 - val_acc: 0.9009\n",
            "Epoch 47/50\n",
            "597/597 [==============================] - 8s 13ms/step - loss: 0.2673 - acc: 0.9037 - val_loss: 0.2906 - val_acc: 0.9056\n",
            "Epoch 48/50\n",
            "597/597 [==============================] - 8s 13ms/step - loss: 0.2531 - acc: 0.9128 - val_loss: 0.3611 - val_acc: 0.8935\n",
            "Epoch 49/50\n",
            "597/597 [==============================] - 8s 13ms/step - loss: 0.2546 - acc: 0.9100 - val_loss: 0.3372 - val_acc: 0.8935\n",
            "Epoch 50/50\n",
            "597/597 [==============================] - 8s 13ms/step - loss: 0.2583 - acc: 0.9050 - val_loss: 0.3619 - val_acc: 0.8880\n"
          ],
          "name": "stdout"
        }
      ]
    },
    {
      "cell_type": "code",
      "metadata": {
        "id": "V1NxnzyMs82B",
        "colab_type": "code",
        "outputId": "646df061-629f-43d4-8d09-b4cd835bbeca",
        "colab": {
          "base_uri": "https://localhost:8080/",
          "height": 567
        }
      },
      "source": [
        "%matplotlib inline\n",
        "\n",
        "import matplotlib.image  as mpimg\n",
        "import matplotlib.pyplot as plt\n",
        "\n",
        "#-----------------------------------------------------------\n",
        "# Retrieve a list of list results on training and test data\n",
        "# sets for each training epoch\n",
        "#-----------------------------------------------------------\n",
        "acc=history.history['acc']\n",
        "val_acc=history.history['val_acc']\n",
        "loss=history.history['loss']\n",
        "val_loss=history.history['val_loss']\n",
        "\n",
        "epochs=range(len(acc)) # Get number of epochs\n",
        "\n",
        "#------------------------------------------------\n",
        "# Plot training and validation accuracy per epoch\n",
        "#------------------------------------------------\n",
        "plt.plot(epochs, acc, 'r', \"Training Accuracy\")\n",
        "plt.plot(epochs, val_acc, 'b', \"Validation Accuracy\")\n",
        "plt.title('Training and validation accuracy')\n",
        "plt.figure()\n",
        "\n",
        "#------------------------------------------------\n",
        "# Plot training and validation loss per epoch\n",
        "#------------------------------------------------\n",
        "plt.plot(epochs, loss, 'r', \"Training Loss\")\n",
        "plt.plot(epochs, val_loss, 'b', \"Validation Loss\")\n",
        "plt.figure()\n"
      ],
      "execution_count": 0,
      "outputs": [
        {
          "output_type": "execute_result",
          "data": {
            "text/plain": [
              "<Figure size 432x288 with 0 Axes>"
            ]
          },
          "metadata": {
            "tags": []
          },
          "execution_count": 22
        },
        {
          "output_type": "display_data",
          "data": {
            "image/png": "[encoded data removed]",
            "text/plain": [
              "<Figure size 432x288 with 1 Axes>"
            ]
          },
          "metadata": {
            "tags": []
          }
        },
        {
          "output_type": "display_data",
          "data": {
            "image/png": "[encoded data removed]",
            "text/plain": [
              "<Figure size 432x288 with 1 Axes>"
            ]
          },
          "metadata": {
            "tags": []
          }
        },
        {
          "output_type": "display_data",
          "data": {
            "text/plain": [
              "<Figure size 432x288 with 0 Axes>"
            ]
          },
          "metadata": {
            "tags": []
          }
        }
      ]
    },
    {
      "cell_type": "code",
      "metadata": {
        "id": "cGBTGsD5tXP-",
        "colab_type": "code",
        "colab": {}
      },
      "source": [
        "model.save('./ninety_acc_model.hd5')"
      ],
      "execution_count": 0,
      "outputs": []
    },
    {
      "cell_type": "code",
      "metadata": {
        "id": "mzpkMSTPbJdR",
        "colab_type": "code",
        "colab": {}
      },
      "source": [
        ""
      ],
      "execution_count": 0,
      "outputs": []
    }
  ]
}