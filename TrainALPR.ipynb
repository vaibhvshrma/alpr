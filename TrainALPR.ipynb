{
 "cells": [
  {
   "cell_type": "code",
   "execution_count": 0,
   "metadata": {
    "colab": {},
    "colab_type": "code",
    "id": "HqqiCqko-BN8"
   },
   "outputs": [],
   "source": [
    "import os\n",
    "import zipfile\n",
    "import random\n",
    "import tensorflow as tf\n",
    "from tensorflow.keras.optimizers import RMSprop\n",
    "from tensorflow.keras.preprocessing.image import ImageDataGenerator\n",
    "from tensorflow.keras import layers\n",
    "from tensorflow.keras import Model\n",
    "from shutil import copyfile"
   ]
  },
  {
   "cell_type": "markdown",
   "metadata": {
    "colab_type": "text",
    "id": "GMLCsphs7wBO"
   },
   "source": [
    "# Load dataset and set up training and testing directories\n",
    "Make sure to upload characters.zip file having sub directories A-Z and 0-9 containing images for those characters correspondingly"
   ]
  },
  {
   "cell_type": "code",
   "execution_count": 0,
   "metadata": {
    "colab": {},
    "colab_type": "code",
    "id": "L3Iw7o4l-NsH"
   },
   "outputs": [],
   "source": [
    "# !rm -r /tmp/*\n",
    "local_zip = '/content/characters.zip'\n",
    "zip_ref   = zipfile.ZipFile(local_zip, 'r')\n",
    "zip_ref.extractall('/tmp/characters-dataset/')\n",
    "zip_ref.close()"
   ]
  },
  {
   "cell_type": "code",
   "execution_count": 45,
   "metadata": {
    "colab": {
     "base_uri": "https://localhost:8080/",
     "height": 51
    },
    "colab_type": "code",
    "id": "OiE01z9q8IwD",
    "outputId": "4e120bf6-40f4-4b45-bec2-e1f8d025a51d"
   },
   "outputs": [
    {
     "name": "stdout",
     "output_type": "stream",
     "text": [
      "0  2  4  6  8  A  C  E\tG  I  K  M  O  Q  S  U\tW  Y\n",
      "1  3  5  7  9  B  D  F\tH  J  L  N  P  R  T  V\tX  Z\n"
     ]
    }
   ],
   "source": [
    "!ls /tmp/characters-dataset/"
   ]
  },
  {
   "cell_type": "code",
   "execution_count": 46,
   "metadata": {
    "colab": {
     "base_uri": "https://localhost:8080/",
     "height": 34
    },
    "colab_type": "code",
    "id": "vz1rCMUZGEZm",
    "outputId": "019f3419-d670-4ea6-e310-271c4cd8c5f9"
   },
   "outputs": [
    {
     "name": "stdout",
     "output_type": "stream",
     "text": [
      "A B C D E F G H I J K L M N O P Q R S T U V W X Y Z 0 1 2 3 4 5 6 7 8 9\n"
     ]
    }
   ],
   "source": [
    "chars = [chr(ord('A') + i) for i in range(26)] + [chr(ord('0') + i) for i in range(10)] \n",
    "print(*chars)"
   ]
  },
  {
   "cell_type": "code",
   "execution_count": 0,
   "metadata": {
    "colab": {},
    "colab_type": "code",
    "id": "nPLO1nMuG5vi"
   },
   "outputs": [],
   "source": [
    "def split_data(SOURCE, TRAINING, TESTING, SPLIT_SIZE):\n",
    "    files = []\n",
    "    for filename in os.listdir(SOURCE):\n",
    "        file = SOURCE + filename\n",
    "        if os.path.getsize(file) > 0:\n",
    "            files.append(filename)\n",
    "        else:\n",
    "            print(filename + \" is zero length, so ignoring.\")\n",
    "\n",
    "    training_length = int(len(files) * SPLIT_SIZE)\n",
    "    testing_length = int(len(files) - training_length)\n",
    "    shuffled_set = random.sample(files, len(files))\n",
    "    training_set = shuffled_set[0:training_length]\n",
    "    testing_set = shuffled_set[-testing_length:]\n",
    "\n",
    "    for filename in training_set:\n",
    "        this_file = SOURCE + filename\n",
    "        destination = TRAINING + filename\n",
    "        copyfile(this_file, destination)\n",
    "\n",
    "    for filename in testing_set:\n",
    "        this_file = SOURCE + filename\n",
    "        destination = TESTING + filename\n",
    "        copyfile(this_file, destination)"
   ]
  },
  {
   "cell_type": "code",
   "execution_count": 0,
   "metadata": {
    "colab": {},
    "colab_type": "code",
    "id": "QYmSADp1XGI6"
   },
   "outputs": [],
   "source": [
    "for char in chars:\n",
    "    os.makedirs(f'/tmp/characters/training/{char}')\n",
    "    os.makedirs(f'/tmp/characters/testing/{char}')\n"
   ]
  },
  {
   "cell_type": "code",
   "execution_count": 0,
   "metadata": {
    "colab": {},
    "colab_type": "code",
    "id": "spVSGIrFK4lR"
   },
   "outputs": [],
   "source": [
    "split_size = .90\n",
    "for char in chars:\n",
    "    SOURCE_DIR = f'/tmp/characters-dataset/{char}/'\n",
    "    TRAIN_DIR = f'/tmp/characters/training/{char}/'\n",
    "    TEST_DIR = f'/tmp/characters/testing/{char}/'\n",
    "    split_data(SOURCE_DIR, TRAIN_DIR, TEST_DIR, split_size)"
   ]
  },
  {
   "cell_type": "code",
   "execution_count": 50,
   "metadata": {
    "colab": {
     "base_uri": "https://localhost:8080/",
     "height": 34
    },
    "colab_type": "code",
    "id": "4i7puQzv8Y1R",
    "outputId": "de85cad5-a4c8-4d9c-8b71-05bd74b67a9c"
   },
   "outputs": [
    {
     "name": "stdout",
     "output_type": "stream",
     "text": [
      "265 30\n"
     ]
    }
   ],
   "source": [
    "print(len(os.listdir('/tmp/characters/training/P')),\n",
    "len(os.listdir('/tmp/characters/testing/P')))"
   ]
  },
  {
   "cell_type": "markdown",
   "metadata": {
    "colab_type": "text",
    "id": "JlxOJFOe8rW0"
   },
   "source": [
    "# Define and train model"
   ]
  },
  {
   "cell_type": "code",
   "execution_count": 0,
   "metadata": {
    "colab": {},
    "colab_type": "code",
    "id": "VIhR-OESADII"
   },
   "outputs": [],
   "source": [
    "model = tf.keras.models.Sequential([\n",
    "    layers.Conv2D(16, (3, 3), activation='relu', input_shape=(30, 30, 3)),\n",
    "    layers.MaxPooling2D(2, 2),\n",
    "    layers.Conv2D(32, (3, 3), activation='relu'),\n",
    "    layers.MaxPooling2D(2, 2),\n",
    "    layers.Flatten(),\n",
    "    layers.Dense(2048, activation='relu'),\n",
    "    layers.Dense(1024, activation='relu'),\n",
    "    layers.Dense(512, activation='relu'),\n",
    "    layers.Dense(36, activation='softmax')\n",
    "])\n",
    "\n",
    "model.compile(optimizer='adam', loss='categorical_crossentropy', metrics=['acc'])"
   ]
  },
  {
   "cell_type": "code",
   "execution_count": 52,
   "metadata": {
    "colab": {
     "base_uri": "https://localhost:8080/",
     "height": 459
    },
    "colab_type": "code",
    "id": "-9i35fP1xWVH",
    "outputId": "43f86b1e-9cf1-4ae0-eaf8-213bcc6fb6dc"
   },
   "outputs": [
    {
     "name": "stdout",
     "output_type": "stream",
     "text": [
      "Model: \"sequential_6\"\n",
      "_________________________________________________________________\n",
      "Layer (type)                 Output Shape              Param #   \n",
      "=================================================================\n",
      "conv2d_10 (Conv2D)           (None, 28, 28, 16)        448       \n",
      "_________________________________________________________________\n",
      "max_pooling2d_9 (MaxPooling2 (None, 14, 14, 16)        0         \n",
      "_________________________________________________________________\n",
      "conv2d_11 (Conv2D)           (None, 12, 12, 32)        4640      \n",
      "_________________________________________________________________\n",
      "max_pooling2d_10 (MaxPooling (None, 6, 6, 32)          0         \n",
      "_________________________________________________________________\n",
      "flatten_6 (Flatten)          (None, 1152)              0         \n",
      "_________________________________________________________________\n",
      "dense_23 (Dense)             (None, 2048)              2361344   \n",
      "_________________________________________________________________\n",
      "dense_24 (Dense)             (None, 1024)              2098176   \n",
      "_________________________________________________________________\n",
      "dense_25 (Dense)             (None, 512)               524800    \n",
      "_________________________________________________________________\n",
      "dense_26 (Dense)             (None, 36)                18468     \n",
      "=================================================================\n",
      "Total params: 5,007,876\n",
      "Trainable params: 5,007,876\n",
      "Non-trainable params: 0\n",
      "_________________________________________________________________\n"
     ]
    }
   ],
   "source": [
    "model.summary()"
   ]
  },
  {
   "cell_type": "markdown",
   "metadata": {
    "colab_type": "text",
    "id": "BACxWCWDUaWJ"
   },
   "source": [
    "## Define Data Generators"
   ]
  },
  {
   "cell_type": "code",
   "execution_count": 53,
   "metadata": {
    "colab": {
     "base_uri": "https://localhost:8080/",
     "height": 51
    },
    "colab_type": "code",
    "id": "tqJ3ReJBT3Nd",
    "outputId": "b095e9de-9848-4273-83fc-6316ed6733fe"
   },
   "outputs": [
    {
     "name": "stdout",
     "output_type": "stream",
     "text": [
      "Found 9540 images belonging to 36 classes.\n",
      "Found 1080 images belonging to 36 classes.\n"
     ]
    }
   ],
   "source": [
    "TRAIN_DIR = \"/tmp/characters/training/\"\n",
    "TEST_DIR = \"/tmp/characters/testing/\"\n",
    "VAL_DIR = \"/tmp/characters/validation/\"\n",
    "\n",
    "# create data generators\n",
    "train_datagen = ImageDataGenerator(\n",
    "    rescale=1./255,\n",
    "    rotation_range=40,\n",
    "    width_shift_range=0.2,\n",
    "    height_shift_range=0.2,\n",
    "    shear_range=0.2,\n",
    "    zoom_range=0.2,\n",
    "    fill_mode='nearest'\n",
    ")\n",
    "\n",
    "train_generator = train_datagen.flow_from_directory(\n",
    "    TRAIN_DIR,\n",
    "    target_size=(30, 30),\n",
    "    class_mode='categorical',\n",
    "    batch_size=64,\n",
    ")\n",
    "\n",
    "test_datagen = ImageDataGenerator(\n",
    "    rescale=1./255,\n",
    "    rotation_range=40,\n",
    "    width_shift_range=0.2,\n",
    "    height_shift_range=0.2,\n",
    "    shear_range=0.2,\n",
    "    zoom_range=0.2,\n",
    "    fill_mode='nearest'\n",
    ")\n",
    "\n",
    "test_generator = train_datagen.flow_from_directory(\n",
    "    TEST_DIR,\n",
    "    target_size=(30, 30),\n",
    "    class_mode='categorical',\n",
    "    batch_size=16,\n",
    ")"
   ]
  },
  {
   "cell_type": "code",
   "execution_count": 54,
   "metadata": {
    "colab": {
     "base_uri": "https://localhost:8080/",
     "height": 1000
    },
    "colab_type": "code",
    "id": "5C5xZnuGUFCz",
    "outputId": "9ac8a9c2-353d-479c-b722-cc5e0ebb8cef"
   },
   "outputs": [
    {
     "name": "stdout",
     "output_type": "stream",
     "text": [
      "Epoch 1/50\n",
      "150/150 [==============================] - 12s 81ms/step - loss: 2.8299 - acc: 0.1830 - val_loss: 1.9501 - val_acc: 0.3500\n",
      "Epoch 2/50\n",
      "150/150 [==============================] - 11s 71ms/step - loss: 1.5176 - acc: 0.4945 - val_loss: 1.3154 - val_acc: 0.5667\n",
      "Epoch 3/50\n",
      "150/150 [==============================] - 11s 71ms/step - loss: 1.0964 - acc: 0.6297 - val_loss: 0.9943 - val_acc: 0.6630\n",
      "Epoch 4/50\n",
      "150/150 [==============================] - 11s 71ms/step - loss: 0.9108 - acc: 0.6963 - val_loss: 0.7420 - val_acc: 0.7657\n",
      "Epoch 5/50\n",
      "150/150 [==============================] - 11s 72ms/step - loss: 0.7508 - acc: 0.7430 - val_loss: 0.7548 - val_acc: 0.7398\n",
      "Epoch 6/50\n",
      "150/150 [==============================] - 11s 72ms/step - loss: 0.7076 - acc: 0.7662 - val_loss: 0.6162 - val_acc: 0.7954\n",
      "Epoch 7/50\n",
      "150/150 [==============================] - 11s 71ms/step - loss: 0.5941 - acc: 0.7964 - val_loss: 0.5861 - val_acc: 0.8074\n",
      "Epoch 8/50\n",
      "150/150 [==============================] - 11s 73ms/step - loss: 0.5338 - acc: 0.8128 - val_loss: 0.5519 - val_acc: 0.8093\n",
      "Epoch 9/50\n",
      "150/150 [==============================] - 11s 75ms/step - loss: 0.5139 - acc: 0.8219 - val_loss: 0.5397 - val_acc: 0.8111\n",
      "Epoch 10/50\n",
      "150/150 [==============================] - 11s 73ms/step - loss: 0.4930 - acc: 0.8294 - val_loss: 0.5054 - val_acc: 0.8204\n",
      "Epoch 11/50\n",
      "150/150 [==============================] - 11s 74ms/step - loss: 0.4927 - acc: 0.8303 - val_loss: 0.6078 - val_acc: 0.7963\n",
      "Epoch 12/50\n",
      "150/150 [==============================] - 11s 74ms/step - loss: 0.4251 - acc: 0.8528 - val_loss: 0.5285 - val_acc: 0.8250\n",
      "Epoch 13/50\n",
      "150/150 [==============================] - 11s 74ms/step - loss: 0.4365 - acc: 0.8521 - val_loss: 0.6048 - val_acc: 0.8009\n",
      "Epoch 14/50\n",
      "150/150 [==============================] - 11s 73ms/step - loss: 0.4317 - acc: 0.8486 - val_loss: 0.4409 - val_acc: 0.8509\n",
      "Epoch 15/50\n",
      "150/150 [==============================] - 12s 78ms/step - loss: 0.3943 - acc: 0.8628 - val_loss: 0.4572 - val_acc: 0.8472\n",
      "Epoch 16/50\n",
      "150/150 [==============================] - 12s 78ms/step - loss: 0.3882 - acc: 0.8651 - val_loss: 0.4140 - val_acc: 0.8620\n",
      "Epoch 17/50\n",
      "150/150 [==============================] - 11s 74ms/step - loss: 0.3812 - acc: 0.8692 - val_loss: 0.4289 - val_acc: 0.8546\n",
      "Epoch 18/50\n",
      "150/150 [==============================] - 11s 74ms/step - loss: 0.4036 - acc: 0.8617 - val_loss: 0.4388 - val_acc: 0.8491\n",
      "Epoch 19/50\n",
      "150/150 [==============================] - 11s 74ms/step - loss: 0.3724 - acc: 0.8717 - val_loss: 0.3877 - val_acc: 0.8648\n",
      "Epoch 20/50\n",
      "150/150 [==============================] - 11s 73ms/step - loss: 0.3769 - acc: 0.8647 - val_loss: 0.4212 - val_acc: 0.8537\n",
      "Epoch 21/50\n",
      "150/150 [==============================] - 11s 73ms/step - loss: 0.3460 - acc: 0.8776 - val_loss: 0.3791 - val_acc: 0.8778\n",
      "Epoch 22/50\n",
      "150/150 [==============================] - 11s 73ms/step - loss: 0.3369 - acc: 0.8808 - val_loss: 0.3780 - val_acc: 0.8593\n",
      "Epoch 23/50\n",
      "150/150 [==============================] - 11s 73ms/step - loss: 0.3412 - acc: 0.8810 - val_loss: 0.3644 - val_acc: 0.8639\n",
      "Epoch 24/50\n",
      "150/150 [==============================] - 11s 72ms/step - loss: 0.3214 - acc: 0.8850 - val_loss: 0.3593 - val_acc: 0.8694\n",
      "Epoch 25/50\n",
      "150/150 [==============================] - 11s 72ms/step - loss: 0.3118 - acc: 0.8872 - val_loss: 0.3552 - val_acc: 0.8676\n",
      "Epoch 26/50\n",
      "150/150 [==============================] - 11s 71ms/step - loss: 0.3123 - acc: 0.8912 - val_loss: 0.3515 - val_acc: 0.8907\n",
      "Epoch 27/50\n",
      "150/150 [==============================] - 11s 72ms/step - loss: 0.3010 - acc: 0.8903 - val_loss: 0.2925 - val_acc: 0.8972\n",
      "Epoch 28/50\n",
      "150/150 [==============================] - 11s 72ms/step - loss: 0.3103 - acc: 0.8885 - val_loss: 0.3578 - val_acc: 0.8787\n",
      "Epoch 29/50\n",
      "150/150 [==============================] - 11s 72ms/step - loss: 0.3187 - acc: 0.8871 - val_loss: 0.3309 - val_acc: 0.8861\n",
      "Epoch 30/50\n",
      "150/150 [==============================] - 11s 71ms/step - loss: 0.3040 - acc: 0.8919 - val_loss: 0.4071 - val_acc: 0.8759\n",
      "Epoch 31/50\n",
      "150/150 [==============================] - 11s 71ms/step - loss: 0.3048 - acc: 0.8923 - val_loss: 0.3679 - val_acc: 0.8731\n",
      "Epoch 32/50\n",
      "150/150 [==============================] - 11s 72ms/step - loss: 0.2931 - acc: 0.8951 - val_loss: 0.3251 - val_acc: 0.8917\n",
      "Epoch 33/50\n",
      "150/150 [==============================] - 11s 71ms/step - loss: 0.2865 - acc: 0.8996 - val_loss: 0.3104 - val_acc: 0.9019\n",
      "Epoch 34/50\n",
      "150/150 [==============================] - 11s 73ms/step - loss: 0.2795 - acc: 0.9005 - val_loss: 0.3064 - val_acc: 0.9000\n",
      "Epoch 35/50\n",
      "150/150 [==============================] - 11s 72ms/step - loss: 0.2774 - acc: 0.9012 - val_loss: 0.2883 - val_acc: 0.8907\n",
      "Epoch 36/50\n",
      "150/150 [==============================] - 11s 72ms/step - loss: 0.2808 - acc: 0.9010 - val_loss: 0.2733 - val_acc: 0.9037\n",
      "Epoch 37/50\n",
      "150/150 [==============================] - 11s 74ms/step - loss: 0.2866 - acc: 0.8991 - val_loss: 0.4770 - val_acc: 0.8361\n",
      "Epoch 38/50\n",
      "150/150 [==============================] - 11s 73ms/step - loss: 0.3060 - acc: 0.8934 - val_loss: 0.3678 - val_acc: 0.8861\n",
      "Epoch 39/50\n",
      "150/150 [==============================] - 11s 74ms/step - loss: 0.2707 - acc: 0.9052 - val_loss: 0.3274 - val_acc: 0.8898\n",
      "Epoch 40/50\n",
      "150/150 [==============================] - 11s 74ms/step - loss: 0.2702 - acc: 0.9012 - val_loss: 0.3472 - val_acc: 0.8926\n",
      "Epoch 41/50\n",
      "150/150 [==============================] - 11s 73ms/step - loss: 0.2691 - acc: 0.9064 - val_loss: 0.3437 - val_acc: 0.8852\n",
      "Epoch 42/50\n",
      "150/150 [==============================] - 11s 74ms/step - loss: 0.2793 - acc: 0.8999 - val_loss: 0.3278 - val_acc: 0.8815\n",
      "Epoch 43/50\n",
      "150/150 [==============================] - 11s 73ms/step - loss: 0.2680 - acc: 0.9034 - val_loss: 0.3256 - val_acc: 0.8815\n",
      "Epoch 44/50\n",
      "150/150 [==============================] - 11s 74ms/step - loss: 0.2501 - acc: 0.9042 - val_loss: 0.2836 - val_acc: 0.8991\n",
      "Epoch 45/50\n",
      "150/150 [==============================] - 11s 73ms/step - loss: 0.2549 - acc: 0.9020 - val_loss: 0.3089 - val_acc: 0.9111\n",
      "Epoch 46/50\n",
      "150/150 [==============================] - 11s 73ms/step - loss: 0.2558 - acc: 0.9067 - val_loss: 0.2774 - val_acc: 0.9111\n",
      "Epoch 47/50\n",
      "150/150 [==============================] - 11s 74ms/step - loss: 0.2554 - acc: 0.9034 - val_loss: 0.2981 - val_acc: 0.8981\n",
      "Epoch 48/50\n",
      "150/150 [==============================] - 11s 73ms/step - loss: 0.2579 - acc: 0.9090 - val_loss: 0.2772 - val_acc: 0.9046\n",
      "Epoch 49/50\n",
      "150/150 [==============================] - 11s 74ms/step - loss: 0.2488 - acc: 0.9108 - val_loss: 0.2724 - val_acc: 0.9065\n",
      "Epoch 50/50\n",
      "150/150 [==============================] - 11s 75ms/step - loss: 0.2375 - acc: 0.9122 - val_loss: 0.2864 - val_acc: 0.9056\n"
     ]
    }
   ],
   "source": [
    "history = model.fit_generator(\n",
    "    train_generator,\n",
    "    epochs=50,\n",
    "    verbose=1,\n",
    "    validation_data=test_generator\n",
    ")"
   ]
  },
  {
   "cell_type": "code",
   "execution_count": 55,
   "metadata": {
    "colab": {
     "base_uri": "https://localhost:8080/",
     "height": 567
    },
    "colab_type": "code",
    "id": "V1NxnzyMs82B",
    "outputId": "2959935b-9f40-4dd8-c2e1-3727b8359baf"
   },
   "outputs": [
    {
     "data": {
      "text/plain": [
       "<Figure size 432x288 with 0 Axes>"
      ]
     },
     "execution_count": 55,
     "metadata": {
      "tags": []
     },
     "output_type": "execute_result"
    },
    {
     "data": {
      "image/png": "[encoded data removed]",
      "text/plain": [
       "<Figure size 432x288 with 1 Axes>"
      ]
     },
     "metadata": {
      "tags": []
     },
     "output_type": "display_data"
    },
    {
     "data": {
      "image/png": "[encoded data removed]",
      "text/plain": [
       "<Figure size 432x288 with 1 Axes>"
      ]
     },
     "metadata": {
      "tags": []
     },
     "output_type": "display_data"
    },
    {
     "data": {
      "text/plain": [
       "<Figure size 432x288 with 0 Axes>"
      ]
     },
     "metadata": {
      "tags": []
     },
     "output_type": "display_data"
    }
   ],
   "source": [
    "%matplotlib inline\n",
    "\n",
    "import matplotlib.image  as mpimg\n",
    "import matplotlib.pyplot as plt\n",
    "\n",
    "#-----------------------------------------------------------\n",
    "# Retrieve a list of list results on training and test data\n",
    "# sets for each training epoch\n",
    "#-----------------------------------------------------------\n",
    "acc=history.history['acc']\n",
    "val_acc=history.history['val_acc']\n",
    "loss=history.history['loss']\n",
    "val_loss=history.history['val_loss']\n",
    "\n",
    "epochs=range(len(acc)) # Get number of epochs\n",
    "\n",
    "#------------------------------------------------\n",
    "# Plot training and validation accuracy per epoch\n",
    "#------------------------------------------------\n",
    "plt.plot(epochs, acc, 'r', label=\"Training Accuracy\")\n",
    "plt.plot(epochs, val_acc, 'b', label=\"Validation Accuracy\")\n",
    "plt.title('Training and validation accuracy')\n",
    "plt.legend()\n",
    "plt.figure()\n",
    "\n",
    "#------------------------------------------------\n",
    "# Plot training and validation loss per epoch\n",
    "#------------------------------------------------\n",
    "plt.plot(epochs, loss, 'r', label=\"Training Loss\")\n",
    "plt.plot(epochs, val_loss, 'b', label=\"Validation Loss\")\n",
    "plt.legend()\n",
    "plt.figure()\n"
   ]
  },
  {
   "cell_type": "code",
   "execution_count": 0,
   "metadata": {
    "colab": {},
    "colab_type": "code",
    "id": "cGBTGsD5tXP-"
   },
   "outputs": [],
   "source": [
    "model.save('./ninety_acc_model.hd5')"
   ]
  },
  {
   "cell_type": "code",
   "execution_count": 0,
   "metadata": {
    "colab": {},
    "colab_type": "code",
    "id": "mzpkMSTPbJdR"
   },
   "outputs": [],
   "source": []
  }
 ],
 "metadata": {
  "accelerator": "GPU",
  "colab": {
   "name": "TrainALPR.ipynb",
   "provenance": [],
   "toc_visible": true
  },
  "kernelspec": {
   "display_name": "Python 3",
   "language": "python",
   "name": "python3"
  },
  "language_info": {
   "codemirror_mode": {
    "name": "ipython",
    "version": 3
   },
   "file_extension": ".py",
   "mimetype": "text/x-python",
   "name": "python",
   "nbconvert_exporter": "python",
   "pygments_lexer": "ipython3",
   "version": "3.6.8"
  }
 },
 "nbformat": 4,
 "nbformat_minor": 1
}
